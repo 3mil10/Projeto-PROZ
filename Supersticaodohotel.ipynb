{
  "nbformat": 4,
  "nbformat_minor": 0,
  "metadata": {
    "colab": {
      "provenance": [],
      "authorship_tag": "ABX9TyNBV1qBT49Awo+n6blCIhtK",
      "include_colab_link": true
    },
    "kernelspec": {
      "name": "python3",
      "display_name": "Python 3"
    },
    "language_info": {
      "name": "python"
    }
  },
  "cells": [
    {
      "cell_type": "markdown",
      "metadata": {
        "id": "view-in-github",
        "colab_type": "text"
      },
      "source": [
        "<a href=\"https://colab.research.google.com/github/3mil10/Projeto-PROZ/blob/main/Supersticaodohotel.ipynb\" target=\"_parent\"><img src=\"https://colab.research.google.com/assets/colab-badge.svg\" alt=\"Open In Colab\"/></a>"
      ]
    },
    {
      "cell_type": "code",
      "execution_count": null,
      "metadata": {
        "id": "fMTyvlaGpApB"
      },
      "outputs": [],
      "source": [
        "#Superstição do Hotel\n",
        "\n",
        "\n",
        "# Precisamos imprimir um número para cada andar de um hotel de 20 andares.\n",
        "#Porém, o dono do hotel é supersticioso e optou por não ter um 13ro andar.\n",
        "#Escreva um código que imprima todos os números exceto o número 13.\n",
        "#Escreva mais dois códigos que resolvam o mesmo problema, mas dessa vez usando os outros\n",
        "#dois tipos de laços de repetição aprendidos.\n",
        "#Como desafio, imprima eles em ordem decrescente (20, 19, 18...)\n",
        "\n",
        "\n",
        "\n",
        "numero = 1\n",
        "while numero <= 20:\n",
        "    if numero != 13:\n",
        "        print(numero)\n",
        "    numero += 1"
      ]
    },
    {
      "cell_type": "code",
      "source": [
        "# em ordem descrescente\n",
        "\n",
        "\n",
        "numero = 20\n",
        "while numero >= 1:\n",
        "    if numero != 13:\n",
        "        print(numero)\n",
        "    numero -= 1"
      ],
      "metadata": {
        "colab": {
          "base_uri": "https://localhost:8080/"
        },
        "id": "aPJ_GF2ppD-h",
        "outputId": "1e933e4e-2f27-4261-d2b5-5ff99bbe338f"
      },
      "execution_count": 1,
      "outputs": [
        {
          "output_type": "stream",
          "name": "stdout",
          "text": [
            "20\n",
            "19\n",
            "18\n",
            "17\n",
            "16\n",
            "15\n",
            "14\n",
            "12\n",
            "11\n",
            "10\n",
            "9\n",
            "8\n",
            "7\n",
            "6\n",
            "5\n",
            "4\n",
            "3\n",
            "2\n",
            "1\n"
          ]
        }
      ]
    }
  ]
}