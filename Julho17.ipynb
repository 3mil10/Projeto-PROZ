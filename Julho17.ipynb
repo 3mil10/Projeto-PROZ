{
  "nbformat": 4,
  "nbformat_minor": 0,
  "metadata": {
    "colab": {
      "provenance": [],
      "authorship_tag": "ABX9TyOn5tk8J86f828shURrJazT",
      "include_colab_link": true
    },
    "kernelspec": {
      "name": "python3",
      "display_name": "Python 3"
    },
    "language_info": {
      "name": "python"
    }
  },
  "cells": [
    {
      "cell_type": "markdown",
      "metadata": {
        "id": "view-in-github",
        "colab_type": "text"
      },
      "source": [
        "<a href=\"https://colab.research.google.com/github/3mil10/Projeto-PROZ/blob/main/Julho17.ipynb\" target=\"_parent\"><img src=\"https://colab.research.google.com/assets/colab-badge.svg\" alt=\"Open In Colab\"/></a>"
      ]
    },
    {
      "cell_type": "code",
      "execution_count": 2,
      "metadata": {
        "id": "xJyx1GbbAdO2",
        "colab": {
          "base_uri": "https://localhost:8080/"
        },
        "outputId": "b23e0660-94a7-45bd-e7ba-d535bfaf220e"
      },
      "outputs": [
        {
          "output_type": "stream",
          "name": "stdout",
          "text": [
            "999\n",
            "1001\n"
          ]
        }
      ],
      "source": [
        "def ant_e_suc(num):\n",
        "  ant = num -1\n",
        "  suc = num + 1\n",
        "  return ant, suc\n",
        "\n",
        "antecessor, sucessor = ant_e_suc(1000)\n",
        "print(antecessor)\n",
        "print(sucessor)"
      ]
    }
  ]
}