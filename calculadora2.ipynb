{
  "nbformat": 4,
  "nbformat_minor": 0,
  "metadata": {
    "colab": {
      "provenance": [],
      "authorship_tag": "ABX9TyM1cmgApOIPKL/DEZJ8i9sd",
      "include_colab_link": true
    },
    "kernelspec": {
      "name": "python3",
      "display_name": "Python 3"
    },
    "language_info": {
      "name": "python"
    }
  },
  "cells": [
    {
      "cell_type": "markdown",
      "metadata": {
        "id": "view-in-github",
        "colab_type": "text"
      },
      "source": [
        "<a href=\"https://colab.research.google.com/github/3mil10/Projeto-PROZ/blob/main/calculadora2.ipynb\" target=\"_parent\"><img src=\"https://colab.research.google.com/assets/colab-badge.svg\" alt=\"Open In Colab\"/></a>"
      ]
    },
    {
      "cell_type": "code",
      "execution_count": 4,
      "metadata": {
        "colab": {
          "base_uri": "https://localhost:8080/"
        },
        "id": "fIlzbAtqXuym",
        "outputId": "6a69c0c0-efd1-4309-83d6-1503bbfd4b16"
      },
      "outputs": [
        {
          "output_type": "stream",
          "name": "stdout",
          "text": [
            "---- Vamos Calcular ----\n",
            "1: Soma\n",
            "2: Subtração\n",
            "3: Multiplicação\n",
            "4: Divisão\n",
            "0: Sair\n",
            "Digite o número para a operação correspondente: 2\n",
            "Digite o primeiro valor: 543\n",
            "Digite o segundo valor: 654\n",
            "\n",
            "Resultado: 543.0 - 654.0 = -111.0\n",
            "\n",
            "---- Vamos Calcular ----\n",
            "1: Soma\n",
            "2: Subtração\n",
            "3: Multiplicação\n",
            "4: Divisão\n",
            "0: Sair\n",
            "Digite o número para a operação correspondente: 0\n",
            "Saindo...\n"
          ]
        }
      ],
      "source": [
        "def calculadora():\n",
        "    while True:\n",
        "        print(\"---- Vamos Calcular ----\")\n",
        "        print(\"1: Soma\")\n",
        "        print(\"2: Subtração\")\n",
        "        print(\"3: Multiplicação\")\n",
        "        print(\"4: Divisão\")\n",
        "        print(\"0: Sair\")\n",
        "\n",
        "        opcao = input(\"Digite o número para a operação correspondente: \")\n",
        "\n",
        "        if opcao == \"0\":\n",
        "            print(\"Saindo...\")\n",
        "            break\n",
        "        elif opcao not in [\"1\", \"2\", \"3\", \"4\"]:\n",
        "            print(\"Essa opção não existe.\")\n",
        "            continue\n",
        "\n",
        "        num1 = float(input(\"Digite o primeiro valor: \"))\n",
        "        num2 = float(input(\"Digite o segundo valor: \"))\n",
        "        print()\n",
        "        if opcao == \"1\":\n",
        "            resultado = num1 + num2\n",
        "            print(f\"Resultado: {num1} + {num2} = {resultado}\")\n",
        "        elif opcao == \"2\":\n",
        "            resultado = num1 - num2\n",
        "            print(f\"Resultado: {num1} - {num2} = {resultado}\")\n",
        "        elif opcao == \"3\":\n",
        "            resultado = num1 * num2\n",
        "            print(f\"Resultado: {num1} * {num2} = {resultado}\")\n",
        "        elif opcao == \"4\":\n",
        "            if num2 != 0:\n",
        "                resultado = num1 / num2\n",
        "                print(f\"Resultado: {num1} / {num2} = {resultado}\")\n",
        "            else:\n",
        "                print(\"Não é possível dividir por zero.\")\n",
        "\n",
        "        print()\n",
        "\n",
        "calculadora()\n"
      ]
    }
  ]
}