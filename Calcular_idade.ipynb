{
  "nbformat": 4,
  "nbformat_minor": 0,
  "metadata": {
    "colab": {
      "provenance": [],
      "authorship_tag": "ABX9TyOYzZHWwNvV3bVWjSw/5qD5",
      "include_colab_link": true
    },
    "kernelspec": {
      "name": "python3",
      "display_name": "Python 3"
    },
    "language_info": {
      "name": "python"
    }
  },
  "cells": [
    {
      "cell_type": "markdown",
      "metadata": {
        "id": "view-in-github",
        "colab_type": "text"
      },
      "source": [
        "<a href=\"https://colab.research.google.com/github/3mil10/Projeto-PROZ/blob/main/Calcular_idade.ipynb\" target=\"_parent\"><img src=\"https://colab.research.google.com/assets/colab-badge.svg\" alt=\"Open In Colab\"/></a>"
      ]
    },
    {
      "cell_type": "code",
      "execution_count": null,
      "metadata": {
        "id": "EB-0xnrIAOd1"
      },
      "outputs": [],
      "source": [
        "from datetime import date\n",
        "\n",
        "def calcular_idade(ano_nascimento):\n",
        "    ano_atual = date.today().year\n",
        "    idade = ano_atual - ano_nascimento\n",
        "    return idade\n",
        "\n",
        "def validar_ano(ano):\n",
        "    try:\n",
        "        ano = int(ano)\n",
        "        if 1922 <= ano <= 2023:\n",
        "            return True\n",
        "        else:\n",
        "            print(\"O ano deve estar entre 1922 e 2023.\")\n",
        "            return False\n",
        "    except ValueError:\n",
        "        print(\"Digite um valor numérico válido.\")\n",
        "        return False\n",
        "\n",
        "nome_completo = input(\"Digite seu nome completo: \")\n",
        "\n",
        "ano_valido = False\n",
        "while not ano_valido:\n",
        "    ano_nascimento = input(\"Digite seu ano de nascimento (entre 1922 e 2023): \")\n",
        "    ano_valido = validar_ano(ano_nascimento)\n",
        "\n",
        "idade = calcular_idade(int(ano_nascimento))\n",
        "print(f\"Nome: {nome_completo}\")\n",
        "print(f\"Idade em 2023: {idade} anos\")\n"
      ]
    },
    {
      "cell_type": "code",
      "source": [],
      "metadata": {
        "id": "qZmuWI1phvrA"
      },
      "execution_count": null,
      "outputs": []
    }
  ]
}