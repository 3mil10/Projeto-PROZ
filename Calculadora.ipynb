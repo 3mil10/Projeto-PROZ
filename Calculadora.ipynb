{
  "nbformat": 4,
  "nbformat_minor": 0,
  "metadata": {
    "colab": {
      "provenance": [],
      "authorship_tag": "ABX9TyPnIJco39OIfj/oi/TOsER5",
      "include_colab_link": true
    },
    "kernelspec": {
      "name": "python3",
      "display_name": "Python 3"
    },
    "language_info": {
      "name": "python"
    }
  },
  "cells": [
    {
      "cell_type": "markdown",
      "metadata": {
        "id": "view-in-github",
        "colab_type": "text"
      },
      "source": [
        "<a href=\"https://colab.research.google.com/github/3mil10/Projeto-PROZ/blob/main/Calculadora.ipynb\" target=\"_parent\"><img src=\"https://colab.research.google.com/assets/colab-badge.svg\" alt=\"Open In Colab\"/></a>"
      ]
    },
    {
      "cell_type": "code",
      "execution_count": 6,
      "metadata": {
        "colab": {
          "base_uri": "https://localhost:8080/"
        },
        "id": "6SgsO65mvr3I",
        "outputId": "30bca33c-6913-47cb-db1c-bc192c8719f9"
      },
      "outputs": [
        {
          "output_type": "stream",
          "name": "stdout",
          "text": [
            "-1\n"
          ]
        }
      ],
      "source": [
        "# função calculadora de dois numeros com 3 parametros.\n",
        "\n",
        "\n",
        "def calculadora(num1, num2, op):\n",
        "  if (op == 1):\n",
        "    return (num1 + num2)\n",
        "  elif(op == 2):\n",
        "    return (num1 - num2)\n",
        "  elif(op == 3):\n",
        "    return (num1 * num2)\n",
        "  elif(op == 4):\n",
        "    return (num1 / num2)\n",
        "  else:\n",
        "    return ('Operação inexistente!')\n",
        "num1 = 2\n",
        "num2 = 3\n",
        "op = 2\n",
        "resultado = calculadora(num1, num2, op)\n",
        "print(resultado)"
      ]
    }
  ]
}