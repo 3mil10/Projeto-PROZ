{
  "nbformat": 4,
  "nbformat_minor": 0,
  "metadata": {
    "colab": {
      "provenance": [],
      "authorship_tag": "ABX9TyMUkfxqgtV87FT8P3RYMqzF",
      "include_colab_link": true
    },
    "kernelspec": {
      "name": "python3",
      "display_name": "Python 3"
    },
    "language_info": {
      "name": "python"
    }
  },
  "cells": [
    {
      "cell_type": "markdown",
      "metadata": {
        "id": "view-in-github",
        "colab_type": "text"
      },
      "source": [
        "<a href=\"https://colab.research.google.com/github/3mil10/Projeto-PROZ/blob/main/Cat_Habilitacao.ipynb\" target=\"_parent\"><img src=\"https://colab.research.google.com/assets/colab-badge.svg\" alt=\"Open In Colab\"/></a>"
      ]
    },
    {
      "cell_type": "code",
      "source": [
        "rodas = 5\n",
        "pesobruto = 0\n",
        "pessoas = 50\n",
        "\n",
        "if (rodas<4):\n",
        "  print(\"Cat A\")\n",
        "elif(rodas==4) and (pessoas<=8) and (pesobruto<=3500):\n",
        "  print(\"Cat B\")\n",
        "elif(pesobruto>=3500) and (pesobruto<=6000) and (pessoas<=8):\n",
        "  print(\"Cat C\")\n",
        "elif(rodas>=4) and (pessoas>8) and (pesobruto<6000):\n",
        "  print(\"Cat D\")\n",
        "else:\n",
        "  print(\"Cat E\")"
      ],
      "metadata": {
        "colab": {
          "base_uri": "https://localhost:8080/"
        },
        "id": "Xd_yNluLUWNG",
        "outputId": "8068fedb-eeb2-472c-c0a9-bd8813f3bb53"
      },
      "execution_count": 64,
      "outputs": [
        {
          "output_type": "stream",
          "name": "stdout",
          "text": [
            "Cat D\n"
          ]
        }
      ]
    }
  ]
}